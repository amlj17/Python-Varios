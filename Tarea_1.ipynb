{
  "nbformat": 4,
  "nbformat_minor": 0,
  "metadata": {
    "colab": {
      "provenance": []
    },
    "kernelspec": {
      "name": "python3",
      "display_name": "Python 3"
    },
    "language_info": {
      "name": "python"
    }
  },
  "cells": [
    {
      "cell_type": "markdown",
      "source": [
        "**Pregunta 1**"
      ],
      "metadata": {
        "id": "opbXi9pF8C-J"
      }
    },
    {
      "cell_type": "code",
      "execution_count": 1,
      "metadata": {
        "id": "l76SoVvpwKSf"
      },
      "outputs": [],
      "source": [
        "import numpy as np\n",
        "import random\n",
        "import seaborn as sn\n",
        "import matplotlib.pyplot as plt\n",
        "from scipy.stats import beta\n",
        "from scipy.stats import bernoulli"
      ]
    },
    {
      "cell_type": "code",
      "source": [
        "#Vector de resultados de lanzamientos del globo\n",
        "resultados = [1, 0, 1, 1, 1, 0, 1, 0, 1]\n",
        "\n",
        "#modelo beta binomial\n",
        "class Beta_Binomial:\n",
        "  def __init__(self, alfa, beta):\n",
        "    self.alfa1 = alfa\n",
        "    self.beta1 = beta\n",
        "\n",
        "#idea de actualizar lo de mañana con lo de hoy (info)\n",
        "  def actualizar(self, sample):\n",
        "    n = len(sample)\n",
        "    #suma de exitos\n",
        "    z = sum(sample)\n",
        "    self.previa_alfa = self.alfa1\n",
        "    self.previa_beta = self.beta1\n",
        "    self.alfa1 = self.previa_alfa + z\n",
        "    self.beta1 = self.previa_beta + n - z\n",
        "  \n",
        "  def actualizar_previa(self):\n",
        "    z = np.linspace(0, 1, 100)\n",
        "    plt.figure()\n",
        "    sn.lineplot(x = z, y = beta.pdf(z, self.alfa1, self.beta1), \n",
        "                label = \"POSTERIOR\")\n",
        "    sn.lineplot(x = z, y= beta.pdf(z, self.previa_alfa, self.previa_beta),\n",
        "                linestyle = '-.', label = \"PREVIA\", color = 'red')\n",
        "    plt.legend()\n",
        "    plt.show()\n"
      ],
      "metadata": {
        "id": "i8gxnC-hwvcP"
      },
      "execution_count": 2,
      "outputs": []
    },
    {
      "cell_type": "code",
      "source": [
        "Pres_Agua = Beta_Binomial(1, 1)\n",
        "\n",
        "for i in range(0, 9):\n",
        "  print( \"lanzamiento\", i+1)\n",
        "  Pres_Agua.actualizar([resultados[i]])\n",
        "  Pres_Agua.actualizar_previa()\n"
      ],
      "metadata": {
        "id": "X67YRG1S8HS1"
      },
      "execution_count": null,
      "outputs": []
    },
    {
      "cell_type": "markdown",
      "source": [
        "**Pregunta 3**"
      ],
      "metadata": {
        "id": "1NYcXLN8ES5o"
      }
    },
    {
      "cell_type": "code",
      "source": [
        "#definicion de variables y parametros\n",
        "alfa = 0.2\n",
        "n = 500\n",
        "theta = 3/4"
      ],
      "metadata": {
        "id": "1Edjkgg_GQ_Z"
      },
      "execution_count": 5,
      "outputs": []
    },
    {
      "cell_type": "markdown",
      "source": [
        "inciso a"
      ],
      "metadata": {
        "id": "QmH3NKjTGOzb"
      }
    },
    {
      "cell_type": "code",
      "source": [
        "#revisar que calculos a mano son correctos y definir pred previas\n",
        "fun_sol = (alfa/4) + (1-alfa)/2\n",
        "fun_aguila = alfa*(3/4)+ (1-alfa)/2\n",
        "print(fun_sol)\n",
        "print(fun_aguila)\n",
        "\n",
        "def predictiva_previa():\n",
        "  plt.figure()\n",
        "  sn.histplot(random.choices([1,0], weights=(fun_aguila, fun_sol), k=n),\n",
        "               stat='density', bins=[-0.5,0.5,1.5])\n",
        "  plt.axhline(fun_aguila, 0.5, color = 'red', linestyle = '--')\n",
        "  plt.axhline(fun_sol, -0.5, 0.5, color = 'red', linestyle = '--')\n",
        "  plt.title(\"Distribucion predictiva previa\")\n",
        "  plt.xlabel(\"Y\")\n",
        "  plt.ylabel(\"P(Y)\")\n",
        "\n",
        "predictiva_previa()"
      ],
      "metadata": {
        "id": "Mi-YcqXzGgb9"
      },
      "execution_count": null,
      "outputs": []
    },
    {
      "cell_type": "markdown",
      "source": [
        "inciso B"
      ],
      "metadata": {
        "id": "nnzL7cf-LENq"
      }
    },
    {
      "cell_type": "code",
      "source": [
        "#distribucion previa:\n",
        "plt.figure()\n",
        "sn.barplot(x=[3/4,1/2], y=[alfa, 1-alfa])\n",
        "plt.title(\"Distribucion Previa\")\n",
        "plt.xlabel(\"theta\")\n",
        "plt.ylabel(\"P(theta)\")"
      ],
      "metadata": {
        "id": "bfNb-q0CLFX7"
      },
      "execution_count": null,
      "outputs": []
    },
    {
      "cell_type": "markdown",
      "source": [
        "Inciso C"
      ],
      "metadata": {
        "id": "cIHRTXnWRjnt"
      }
    },
    {
      "cell_type": "code",
      "source": [
        "Bernoulli_Samp = bernoulli.rvs(theta, size=n)\n",
        "V_Bernoulli = (alfa/(1-alfa))*((3^(Bernoulli_Samp.sum()))/(2^len(Bernoulli_Samp)))\n",
        "Aguila_muestra = (3*V_Bernoulli+2)/(4*(V_Bernoulli+1))\n",
        "Sol_muestra = (V_Bernoulli+2)/(4*(V_Bernoulli+1))"
      ],
      "metadata": {
        "id": "3zWi9zzlRlK5"
      },
      "execution_count": 8,
      "outputs": []
    },
    {
      "cell_type": "markdown",
      "source": [
        "Inciso D)"
      ],
      "metadata": {
        "id": "_Svxw_EXTO2U"
      }
    },
    {
      "cell_type": "code",
      "source": [
        "def predictiva_posterior():\n",
        "  plt.figure()\n",
        "  sn.histplot(random.choices([1,0], weights=(Aguila_muestra, Sol_muestra), k=n),\n",
        "              stat='density', bins=[-0.5,0.5,1.5])\n",
        "  plt.axhline(Aguila_muestra, 0.5, color = 'red', linestyle='--')\n",
        "  plt.axhline(Sol_muestra, -0.5, 0.5, color = 'red', linestyle='--')\n",
        "  plt.title(\"Distribucion predictiva posterior\")\n",
        "\n",
        "predictiva_posterior()"
      ],
      "metadata": {
        "id": "8JPc0fTPTQSu"
      },
      "execution_count": null,
      "outputs": []
    },
    {
      "cell_type": "markdown",
      "source": [
        "Inciso E)"
      ],
      "metadata": {
        "id": "GzU2ZmVak3nM"
      }
    },
    {
      "cell_type": "code",
      "source": [
        "Moneda_J = 1/(1+V_Bernoulli)\n",
        "Moneda_C = 1/(1+1/V_Bernoulli)\n",
        "\n",
        "plt.figure()\n",
        "sn.barplot(x=[3/4,1/2], y=[Moneda_C, Moneda_J])\n",
        "plt.title(\"Distribucion Posterior\")\n",
        "plt.xlabel(\"theta\")\n",
        "plt.ylabel(\"P(theta)\")"
      ],
      "metadata": {
        "id": "sz7xSapdlyRn"
      },
      "execution_count": null,
      "outputs": []
    },
    {
      "cell_type": "markdown",
      "source": [
        "Inciso F"
      ],
      "metadata": {
        "id": "cwusQNMSo9dq"
      }
    },
    {
      "cell_type": "markdown",
      "source": [
        "Primero para un alfa de 0.5"
      ],
      "metadata": {
        "id": "Zd7nwrYIpRIj"
      }
    },
    {
      "cell_type": "code",
      "source": [
        "alfa = 0.5\n",
        "n = 500\n",
        "theta = 3/4"
      ],
      "metadata": {
        "id": "vPP8CUdTo-tO"
      },
      "execution_count": 11,
      "outputs": []
    },
    {
      "cell_type": "code",
      "source": [
        "#revisar que calculos a mano son correctos y definir pred previas\n",
        "fun_sol = (alfa/4) + (1-alfa)/2\n",
        "fun_aguila = alfa*(3/4)+ (1-alfa)/2\n",
        "print(fun_sol)\n",
        "print(fun_aguila)\n",
        "\n",
        "def predictiva_previa():\n",
        "  plt.figure()\n",
        "  sn.histplot(random.choices([1,0], weights=(fun_aguila, fun_sol), k=n),\n",
        "               stat='density', bins=[-0.5,0.5,1.5])\n",
        "  plt.axhline(fun_aguila, 0.5, color = 'red', linestyle = '--')\n",
        "  plt.axhline(fun_sol, -0.5, 0.5, color = 'red', linestyle = '--')\n",
        "  plt.title(\"Distribucion predictiva previa\")\n",
        "  plt.xlabel(\"Y\")\n",
        "  plt.ylabel(\"P(Y)\")\n",
        "\n",
        "predictiva_previa()"
      ],
      "metadata": {
        "id": "0oXR5wSUpVZc"
      },
      "execution_count": null,
      "outputs": []
    },
    {
      "cell_type": "code",
      "source": [
        "#distribucion previa:\n",
        "plt.figure()\n",
        "sn.barplot(x=[3/4,1/2], y=[alfa, 1-alfa])\n",
        "plt.title(\"Distribucion Previa\")\n",
        "plt.xlabel(\"theta\")\n",
        "plt.ylabel(\"P(theta)\")"
      ],
      "metadata": {
        "id": "7ghQ1xevpu97"
      },
      "execution_count": null,
      "outputs": []
    },
    {
      "cell_type": "code",
      "source": [
        "#muestras simuladas\n",
        "Bernoulli_Samp = bernoulli.rvs(theta, size=n)\n",
        "V_Bernoulli = (alfa/(1-alfa))*((3^(Bernoulli_Samp.sum()))/(2^len(Bernoulli_Samp)))\n",
        "Aguila_muestra = (3*V_Bernoulli+2)/(4*(V_Bernoulli+1))\n",
        "Sol_muestra = (V_Bernoulli+2)/(4*(V_Bernoulli+1))"
      ],
      "metadata": {
        "id": "CppL2m72pzZb"
      },
      "execution_count": 14,
      "outputs": []
    },
    {
      "cell_type": "code",
      "source": [
        "#pred post\n",
        "def predictiva_posterior():\n",
        "  plt.figure()\n",
        "  sn.histplot(random.choices([1,0], weights=(Aguila_muestra, Sol_muestra), k=n),\n",
        "              stat='density', bins=[-0.5,0.5,1.5])\n",
        "  plt.axhline(Aguila_muestra, 0.5, color = 'red', linestyle='--')\n",
        "  plt.axhline(Sol_muestra, -0.5, 0.5, color = 'red', linestyle='--')\n",
        "  plt.title(\"Distribucion predictiva posterior\")\n",
        "\n",
        "predictiva_posterior()"
      ],
      "metadata": {
        "id": "FwK7S6kIp4xW"
      },
      "execution_count": null,
      "outputs": []
    },
    {
      "cell_type": "code",
      "source": [
        "#dist post\n",
        "Moneda_J = 1/(1+V_Bernoulli)\n",
        "Moneda_C = 1/(1+1/V_Bernoulli)\n",
        "\n",
        "plt.figure()\n",
        "sn.barplot(x=[3/4,1/2], y=[Moneda_C, Moneda_J])\n",
        "plt.title(\"Distribucion Posterior\")\n",
        "plt.xlabel(\"theta\")\n",
        "plt.ylabel(\"P(theta)\")"
      ],
      "metadata": {
        "id": "5P4-sxmIp8wZ"
      },
      "execution_count": null,
      "outputs": []
    },
    {
      "cell_type": "markdown",
      "source": [
        "Ahora para un Alfa de 0.05"
      ],
      "metadata": {
        "id": "S-FjBQiarn-y"
      }
    },
    {
      "cell_type": "code",
      "source": [
        "alfa = 0.05\n",
        "n = 500\n",
        "theta = 3/4"
      ],
      "metadata": {
        "id": "YsgB0aLzrpO8"
      },
      "execution_count": 17,
      "outputs": []
    },
    {
      "cell_type": "code",
      "source": [
        "#revisar que calculos a mano son correctos y definir pred previas\n",
        "fun_sol = (alfa/4) + (1-alfa)/2\n",
        "fun_aguila = alfa*(3/4)+ (1-alfa)/2\n",
        "print(fun_sol)\n",
        "print(fun_aguila)\n",
        "\n",
        "def predictiva_previa():\n",
        "  plt.figure()\n",
        "  sn.histplot(random.choices([1,0], weights=(fun_aguila, fun_sol), k=n),\n",
        "               stat='density', bins=[-0.5,0.5,1.5])\n",
        "  plt.axhline(fun_aguila, 0.5, color = 'red', linestyle = '--')\n",
        "  plt.axhline(fun_sol, -0.5, 0.5, color = 'red', linestyle = '--')\n",
        "  plt.title(\"Distribucion predictiva previa\")\n",
        "  plt.xlabel(\"Y\")\n",
        "  plt.ylabel(\"P(Y)\")\n",
        "\n",
        "predictiva_previa()"
      ],
      "metadata": {
        "id": "6JjKE7UnrspC"
      },
      "execution_count": null,
      "outputs": []
    },
    {
      "cell_type": "code",
      "source": [
        "#distribucion previa:\n",
        "plt.figure()\n",
        "sn.barplot(x=[3/4,1/2], y=[alfa, 1-alfa])\n",
        "plt.title(\"Distribucion Previa\")\n",
        "plt.xlabel(\"theta\")\n",
        "plt.ylabel(\"P(theta)\")"
      ],
      "metadata": {
        "id": "dNBQU8VmrxS5"
      },
      "execution_count": null,
      "outputs": []
    },
    {
      "cell_type": "code",
      "source": [
        "#muestra simul\n",
        "Bernoulli_Samp = bernoulli.rvs(theta, size=n)\n",
        "V_Bernoulli = (alfa/(1-alfa))*((3^(Bernoulli_Samp.sum()))/(2^len(Bernoulli_Samp)))\n",
        "Aguila_muestra = (3*V_Bernoulli+2)/(4*(V_Bernoulli+1))\n",
        "Sol_muestra = (V_Bernoulli+2)/(4*(V_Bernoulli+1))"
      ],
      "metadata": {
        "id": "EeKHjSh9r0PA"
      },
      "execution_count": 20,
      "outputs": []
    },
    {
      "cell_type": "code",
      "source": [
        "#pred post\n",
        "def predictiva_posterior():\n",
        "  plt.figure()\n",
        "  sn.histplot(random.choices([1,0], weights=(Aguila_muestra, Sol_muestra), k=n),\n",
        "              stat='density', bins=[-0.5,0.5,1.5])\n",
        "  plt.axhline(Aguila_muestra, 0.5, color = 'red', linestyle='--')\n",
        "  plt.axhline(Sol_muestra, -0.5, 0.5, color = 'red', linestyle='--')\n",
        "  plt.title(\"Distribucion predictiva posterior\")\n",
        "\n",
        "predictiva_posterior()"
      ],
      "metadata": {
        "id": "qkMI6weasEFi"
      },
      "execution_count": null,
      "outputs": []
    },
    {
      "cell_type": "code",
      "source": [
        "#dist posterior\n",
        "Moneda_J = 1/(1+V_Bernoulli)\n",
        "Moneda_C = 1/(1+1/V_Bernoulli)\n",
        "\n",
        "plt.figure()\n",
        "sn.barplot(x=[3/4,1/2], y=[Moneda_C, Moneda_J])\n",
        "plt.title(\"Distribucion Posterior\")\n",
        "plt.xlabel(\"theta\")\n",
        "plt.ylabel(\"P(theta)\")"
      ],
      "metadata": {
        "id": "l21BX8V2sJ4P"
      },
      "execution_count": null,
      "outputs": []
    },
    {
      "cell_type": "markdown",
      "source": [
        "**Pregunta 6**"
      ],
      "metadata": {
        "id": "ZJpK3pS3Aaod"
      }
    },
    {
      "cell_type": "code",
      "source": [
        "#Graficar la función obtenida\n",
        "x = np.linspace(0,20,100)\n",
        "y = (((20-x)/20)*0.95)/(((20-x)/20)*0.95 + 0.05)\n",
        "plt.plot(x,y, 'r')\n",
        "plt.title(\"Función de pérdida de la esperanza\")\n",
        "plt.xlabel(\"tiempo\")\n",
        "plt.ylabel(\"esperanza\")\n",
        "plt.show()"
      ],
      "metadata": {
        "id": "QUk9botx01Ji"
      },
      "execution_count": null,
      "outputs": []
    },
    {
      "cell_type": "code",
      "source": [
        "#de la manera simplificada\n",
        "x = np.linspace(0,20,100)\n",
        "y = (0.95-0.0475*x)/(1-0.0475*x)\n",
        "plt.plot(x,y, 'b')\n",
        "plt.title(\"Función de pérdida de la esperanza\")\n",
        "plt.xlabel(\"tiempo\")\n",
        "plt.ylabel(\"esperanza\")\n",
        "plt.show()"
      ],
      "metadata": {
        "id": "nmXmlTs01kJ-"
      },
      "execution_count": null,
      "outputs": []
    }
  ]
}